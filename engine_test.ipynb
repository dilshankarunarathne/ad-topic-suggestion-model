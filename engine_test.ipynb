{
 "cells": [
  {
   "cell_type": "code",
   "execution_count": 6,
   "outputs": [],
   "source": [
    "import pandas as pd\n",
    "import numpy as np\n",
    "from sklearn.model_selection import train_test_split\n",
    "from tensorflow.keras.layers import Input, Embedding, LSTM, Flatten, Concatenate, Dense\n",
    "from tensorflow.keras.models import Model\n",
    "from tensorflow.keras.preprocessing.text import Tokenizer\n",
    "from tensorflow.keras.preprocessing.sequence import pad_sequences"
   ],
   "metadata": {
    "collapsed": false,
    "ExecuteTime": {
     "end_time": "2023-08-30T09:42:06.071835Z",
     "start_time": "2023-08-30T09:41:56.439625Z"
    }
   },
   "id": "4e884974c42434df"
  },
  {
   "cell_type": "code",
   "execution_count": 7,
   "outputs": [],
   "source": [
    "# Load your dataset\n",
    "df = pd.read_csv('generated_dataset.csv')"
   ],
   "metadata": {
    "collapsed": false,
    "ExecuteTime": {
     "end_time": "2023-08-30T09:42:16.044604Z",
     "start_time": "2023-08-30T09:42:16.024647900Z"
    }
   },
   "id": "95bf28d213e4f4f8"
  },
  {
   "cell_type": "code",
   "execution_count": 8,
   "outputs": [],
   "source": [
    "# Encode categorical variables\n",
    "df['UserGender'] = df['UserGender'].map({'M': 0, 'F': 1})"
   ],
   "metadata": {
    "collapsed": false,
    "ExecuteTime": {
     "end_time": "2023-08-30T09:42:22.497477400Z",
     "start_time": "2023-08-30T09:42:22.483256500Z"
    }
   },
   "id": "2ac75dc7ee771a99"
  },
  {
   "cell_type": "code",
   "execution_count": 11,
   "outputs": [],
   "source": [
    "# Tokenize and pad liked topics\n",
    "max_topics_length = 50\n",
    "tokenizer = Tokenizer()\n",
    "tokenizer.fit_on_texts(df['LikedTopic'])  \n",
    "topics_seq = tokenizer.texts_to_sequences(df['LikedTopic'])  \n",
    "topics_pad = pad_sequences(topics_seq, maxlen=max_topics_length)"
   ],
   "metadata": {
    "collapsed": false,
    "ExecuteTime": {
     "end_time": "2023-08-30T09:44:58.529078200Z",
     "start_time": "2023-08-30T09:44:58.485811900Z"
    }
   },
   "id": "e125ff7bbbc142a5"
  },
  {
   "cell_type": "code",
   "execution_count": 21,
   "outputs": [],
   "source": [
    "# Split the data\n",
    "X_age = df['UserAge'].values\n",
    "X_gender = df['UserGender'].values\n",
    "X_topics = topics_pad\n",
    "y = np.ones(len(df))  # Binary label: 1 for 'liked', assuming all entries are liked"
   ],
   "metadata": {
    "collapsed": false,
    "ExecuteTime": {
     "end_time": "2023-08-30T09:52:23.017227800Z",
     "start_time": "2023-08-30T09:52:23.005994500Z"
    }
   },
   "id": "11f944b51a907641"
  },
  {
   "cell_type": "code",
   "execution_count": 22,
   "outputs": [],
   "source": [
    "# Split the data into train and test sets\n",
    "X_age_train, X_age_test, X_gender_train, X_gender_test, X_topics_train, X_topics_test, y_train, y_test = train_test_split(\n",
    "    X_age, X_gender, X_topics, y, test_size=0.2, random_state=42)"
   ],
   "metadata": {
    "collapsed": false,
    "ExecuteTime": {
     "end_time": "2023-08-30T09:52:24.332651400Z",
     "start_time": "2023-08-30T09:52:24.327864400Z"
    }
   },
   "id": "5b6d34be56f06fd5"
  },
  {
   "cell_type": "code",
   "execution_count": 23,
   "outputs": [],
   "source": [
    "# Define the model\n",
    "embedding_dim = 32\n",
    "num_age_groups = len(df['UserAge'].unique())\n",
    "num_genders = len(df['UserGender'].unique())\n",
    "num_topics = len(tokenizer.word_index) + 1"
   ],
   "metadata": {
    "collapsed": false,
    "ExecuteTime": {
     "end_time": "2023-08-30T09:52:32.738908200Z",
     "start_time": "2023-08-30T09:52:32.721919700Z"
    }
   },
   "id": "6b815e90e962331b"
  },
  {
   "cell_type": "code",
   "execution_count": 24,
   "outputs": [],
   "source": [
    "# Input layers\n",
    "age_input = Input(shape=(1,), dtype='int32', name='age_input')\n",
    "gender_input = Input(shape=(1,), dtype='int32', name='gender_input')\n",
    "topics_input = Input(shape=(max_topics_length,), dtype='int32', name='topics_input')"
   ],
   "metadata": {
    "collapsed": false,
    "ExecuteTime": {
     "end_time": "2023-08-30T09:52:37.657625400Z",
     "start_time": "2023-08-30T09:52:37.640309300Z"
    }
   },
   "id": "3d9f2d3d17271cbb"
  },
  {
   "cell_type": "code",
   "execution_count": 25,
   "outputs": [],
   "source": [
    "# Embedding layers\n",
    "age_embedding = Embedding(input_dim=num_age_groups, output_dim=embedding_dim)(age_input)\n",
    "gender_embedding = Embedding(input_dim=num_genders, output_dim=embedding_dim)(gender_input)"
   ],
   "metadata": {
    "collapsed": false,
    "ExecuteTime": {
     "end_time": "2023-08-30T09:52:41.731460200Z",
     "start_time": "2023-08-30T09:52:41.676608200Z"
    }
   },
   "id": "407cbe46d459980b"
  },
  {
   "cell_type": "code",
   "execution_count": 26,
   "outputs": [],
   "source": [
    "# LSTM layer for processing liked topics\n",
    "topics_embedding = Embedding(input_dim=num_topics, output_dim=embedding_dim)(topics_input)\n",
    "lstm_layer = LSTM(32)(topics_embedding)"
   ],
   "metadata": {
    "collapsed": false,
    "ExecuteTime": {
     "end_time": "2023-08-30T09:52:45.812980400Z",
     "start_time": "2023-08-30T09:52:45.287915900Z"
    }
   },
   "id": "88088488ddef79da"
  },
  {
   "cell_type": "code",
   "execution_count": 27,
   "outputs": [],
   "source": [
    "# Flatten embeddings\n",
    "age_flatten = Flatten()(age_embedding)\n",
    "gender_flatten = Flatten()(gender_embedding)"
   ],
   "metadata": {
    "collapsed": false,
    "ExecuteTime": {
     "end_time": "2023-08-30T09:52:48.816520700Z",
     "start_time": "2023-08-30T09:52:48.816006600Z"
    }
   },
   "id": "2525ec18b0460393"
  },
  {
   "cell_type": "code",
   "execution_count": 28,
   "outputs": [],
   "source": [
    "# Concatenate embeddings\n",
    "concatenated = Concatenate()([age_flatten, gender_flatten, lstm_layer])"
   ],
   "metadata": {
    "collapsed": false,
    "ExecuteTime": {
     "end_time": "2023-08-30T09:52:51.283008500Z",
     "start_time": "2023-08-30T09:52:51.266555400Z"
    }
   },
   "id": "12c279d3559e5246"
  },
  {
   "cell_type": "code",
   "execution_count": 29,
   "outputs": [],
   "source": [
    "# Neural network layers for prediction\n",
    "fc1 = Dense(64, activation='relu')(concatenated)\n",
    "fc2 = Dense(32, activation='relu')(fc1)\n",
    "output = Dense(1, activation='sigmoid')(fc2)"
   ],
   "metadata": {
    "collapsed": false,
    "ExecuteTime": {
     "end_time": "2023-08-30T09:52:54.455822200Z",
     "start_time": "2023-08-30T09:52:54.399352100Z"
    }
   },
   "id": "15479f9358cb39"
  },
  {
   "cell_type": "code",
   "execution_count": 30,
   "outputs": [],
   "source": [
    "# Create the model\n",
    "model = Model(inputs=[age_input, gender_input, topics_input], outputs=output)"
   ],
   "metadata": {
    "collapsed": false,
    "ExecuteTime": {
     "end_time": "2023-08-30T09:52:59.218016300Z",
     "start_time": "2023-08-30T09:52:59.209905100Z"
    }
   },
   "id": "5f7315fc568bdc17"
  },
  {
   "cell_type": "code",
   "execution_count": 31,
   "outputs": [],
   "source": [
    "# Compile the model\n",
    "model.compile(loss='binary_crossentropy', optimizer='adam', metrics=['accuracy'])"
   ],
   "metadata": {
    "collapsed": false,
    "ExecuteTime": {
     "end_time": "2023-08-30T09:53:01.698685600Z",
     "start_time": "2023-08-30T09:53:01.679644900Z"
    }
   },
   "id": "a69121aa553d9991"
  },
  {
   "cell_type": "code",
   "execution_count": 33,
   "outputs": [
    {
     "name": "stdout",
     "output_type": "stream",
     "text": [
      "Epoch 1/10\n"
     ]
    },
    {
     "ename": "ValueError",
     "evalue": "in user code:\n\n    File \"C:\\Dev\\Python\\Lib\\site-packages\\keras\\src\\engine\\training.py\", line 1338, in train_function  *\n        return step_function(self, iterator)\n    File \"C:\\Dev\\Python\\Lib\\site-packages\\keras\\src\\engine\\training.py\", line 1322, in step_function  **\n        outputs = model.distribute_strategy.run(run_step, args=(data,))\n    File \"C:\\Dev\\Python\\Lib\\site-packages\\keras\\src\\engine\\training.py\", line 1303, in run_step  **\n        outputs = model.train_step(data)\n    File \"C:\\Dev\\Python\\Lib\\site-packages\\keras\\src\\engine\\training.py\", line 1080, in train_step\n        y_pred = self(x, training=True)\n    File \"C:\\Dev\\Python\\Lib\\site-packages\\keras\\src\\utils\\traceback_utils.py\", line 70, in error_handler\n        raise e.with_traceback(filtered_tb) from None\n    File \"C:\\Dev\\Python\\Lib\\site-packages\\keras\\src\\engine\\input_spec.py\", line 197, in assert_input_compatibility\n        raise ValueError(\n\n    ValueError: Missing data for input \"age_input\". You passed a data dictionary with keys ['UserAge', 'UserGender', 'LikedTopics']. Expected the following keys: ['age_input', 'gender_input', 'topics_input']\n",
     "output_type": "error",
     "traceback": [
      "\u001B[1;31m---------------------------------------------------------------------------\u001B[0m",
      "\u001B[1;31mValueError\u001B[0m                                Traceback (most recent call last)",
      "Cell \u001B[1;32mIn[33], line 2\u001B[0m\n\u001B[0;32m      1\u001B[0m \u001B[38;5;66;03m# Train the model\u001B[39;00m\n\u001B[1;32m----> 2\u001B[0m \u001B[43mmodel\u001B[49m\u001B[38;5;241;43m.\u001B[39;49m\u001B[43mfit\u001B[49m\u001B[43m(\u001B[49m\n\u001B[0;32m      3\u001B[0m \u001B[43m    \u001B[49m\u001B[43m{\u001B[49m\n\u001B[0;32m      4\u001B[0m \u001B[43m        \u001B[49m\u001B[38;5;124;43m'\u001B[39;49m\u001B[38;5;124;43mUserAge\u001B[39;49m\u001B[38;5;124;43m'\u001B[39;49m\u001B[43m:\u001B[49m\u001B[43m \u001B[49m\u001B[43mX_age_train\u001B[49m\u001B[43m,\u001B[49m\n\u001B[0;32m      5\u001B[0m \u001B[43m        \u001B[49m\u001B[38;5;124;43m'\u001B[39;49m\u001B[38;5;124;43mUserGender\u001B[39;49m\u001B[38;5;124;43m'\u001B[39;49m\u001B[43m:\u001B[49m\u001B[43m \u001B[49m\u001B[43mX_gender_train\u001B[49m\u001B[43m,\u001B[49m\n\u001B[0;32m      6\u001B[0m \u001B[43m        \u001B[49m\u001B[38;5;124;43m'\u001B[39;49m\u001B[38;5;124;43mLikedTopics\u001B[39;49m\u001B[38;5;124;43m'\u001B[39;49m\u001B[43m:\u001B[49m\u001B[43m \u001B[49m\u001B[43mX_topics_train\u001B[49m\n\u001B[0;32m      7\u001B[0m \u001B[43m    \u001B[49m\u001B[43m}\u001B[49m\u001B[43m,\u001B[49m\n\u001B[0;32m      8\u001B[0m \u001B[43m    \u001B[49m\u001B[43my_train\u001B[49m\u001B[43m,\u001B[49m\n\u001B[0;32m      9\u001B[0m \u001B[43m    \u001B[49m\u001B[43mepochs\u001B[49m\u001B[38;5;241;43m=\u001B[39;49m\u001B[38;5;241;43m10\u001B[39;49m\u001B[43m,\u001B[49m\n\u001B[0;32m     10\u001B[0m \u001B[43m    \u001B[49m\u001B[43mbatch_size\u001B[49m\u001B[38;5;241;43m=\u001B[39;49m\u001B[38;5;241;43m64\u001B[39;49m\u001B[43m,\u001B[49m\n\u001B[0;32m     11\u001B[0m \u001B[43m    \u001B[49m\u001B[43mvalidation_split\u001B[49m\u001B[38;5;241;43m=\u001B[39;49m\u001B[38;5;241;43m0.2\u001B[39;49m\n\u001B[0;32m     12\u001B[0m \u001B[43m)\u001B[49m\n",
      "File \u001B[1;32mC:\\Dev\\Python\\Lib\\site-packages\\keras\\src\\utils\\traceback_utils.py:70\u001B[0m, in \u001B[0;36mfilter_traceback.<locals>.error_handler\u001B[1;34m(*args, **kwargs)\u001B[0m\n\u001B[0;32m     67\u001B[0m     filtered_tb \u001B[38;5;241m=\u001B[39m _process_traceback_frames(e\u001B[38;5;241m.\u001B[39m__traceback__)\n\u001B[0;32m     68\u001B[0m     \u001B[38;5;66;03m# To get the full stack trace, call:\u001B[39;00m\n\u001B[0;32m     69\u001B[0m     \u001B[38;5;66;03m# `tf.debugging.disable_traceback_filtering()`\u001B[39;00m\n\u001B[1;32m---> 70\u001B[0m     \u001B[38;5;28;01mraise\u001B[39;00m e\u001B[38;5;241m.\u001B[39mwith_traceback(filtered_tb) \u001B[38;5;28;01mfrom\u001B[39;00m \u001B[38;5;28;01mNone\u001B[39;00m\n\u001B[0;32m     71\u001B[0m \u001B[38;5;28;01mfinally\u001B[39;00m:\n\u001B[0;32m     72\u001B[0m     \u001B[38;5;28;01mdel\u001B[39;00m filtered_tb\n",
      "File \u001B[1;32mC:\\Users\\DILSHA~1\\AppData\\Local\\Temp\\__autograph_generated_filefwukf897.py:15\u001B[0m, in \u001B[0;36mouter_factory.<locals>.inner_factory.<locals>.tf__train_function\u001B[1;34m(iterator)\u001B[0m\n\u001B[0;32m     13\u001B[0m \u001B[38;5;28;01mtry\u001B[39;00m:\n\u001B[0;32m     14\u001B[0m     do_return \u001B[38;5;241m=\u001B[39m \u001B[38;5;28;01mTrue\u001B[39;00m\n\u001B[1;32m---> 15\u001B[0m     retval_ \u001B[38;5;241m=\u001B[39m ag__\u001B[38;5;241m.\u001B[39mconverted_call(ag__\u001B[38;5;241m.\u001B[39mld(step_function), (ag__\u001B[38;5;241m.\u001B[39mld(\u001B[38;5;28mself\u001B[39m), ag__\u001B[38;5;241m.\u001B[39mld(iterator)), \u001B[38;5;28;01mNone\u001B[39;00m, fscope)\n\u001B[0;32m     16\u001B[0m \u001B[38;5;28;01mexcept\u001B[39;00m:\n\u001B[0;32m     17\u001B[0m     do_return \u001B[38;5;241m=\u001B[39m \u001B[38;5;28;01mFalse\u001B[39;00m\n",
      "\u001B[1;31mValueError\u001B[0m: in user code:\n\n    File \"C:\\Dev\\Python\\Lib\\site-packages\\keras\\src\\engine\\training.py\", line 1338, in train_function  *\n        return step_function(self, iterator)\n    File \"C:\\Dev\\Python\\Lib\\site-packages\\keras\\src\\engine\\training.py\", line 1322, in step_function  **\n        outputs = model.distribute_strategy.run(run_step, args=(data,))\n    File \"C:\\Dev\\Python\\Lib\\site-packages\\keras\\src\\engine\\training.py\", line 1303, in run_step  **\n        outputs = model.train_step(data)\n    File \"C:\\Dev\\Python\\Lib\\site-packages\\keras\\src\\engine\\training.py\", line 1080, in train_step\n        y_pred = self(x, training=True)\n    File \"C:\\Dev\\Python\\Lib\\site-packages\\keras\\src\\utils\\traceback_utils.py\", line 70, in error_handler\n        raise e.with_traceback(filtered_tb) from None\n    File \"C:\\Dev\\Python\\Lib\\site-packages\\keras\\src\\engine\\input_spec.py\", line 197, in assert_input_compatibility\n        raise ValueError(\n\n    ValueError: Missing data for input \"age_input\". You passed a data dictionary with keys ['UserAge', 'UserGender', 'LikedTopics']. Expected the following keys: ['age_input', 'gender_input', 'topics_input']\n"
     ]
    }
   ],
   "source": [
    "# Train the model\n",
    "model.fit(\n",
    "    {\n",
    "        'UserAge': X_age_train,\n",
    "        'UserGender': X_gender_train,\n",
    "        'LikedTopics': X_topics_train\n",
    "    },\n",
    "    y_train,\n",
    "    epochs=10,\n",
    "    batch_size=64,\n",
    "    validation_split=0.2\n",
    ")"
   ],
   "metadata": {
    "collapsed": false,
    "ExecuteTime": {
     "end_time": "2023-08-30T09:54:23.336767800Z",
     "start_time": "2023-08-30T09:54:22.983499400Z"
    }
   },
   "id": "f828fa4adb9ae32"
  },
  {
   "cell_type": "code",
   "execution_count": null,
   "outputs": [],
   "source": [
    "# Evaluate the model\n",
    "loss, accuracy = model.evaluate(X_test, y_test)\n",
    "print(f\"Test Loss: {loss}, Test Accuracy: {accuracy}\")"
   ],
   "metadata": {
    "collapsed": false
   },
   "id": "22de9c0db1452a28"
  },
  {
   "cell_type": "code",
   "execution_count": null,
   "outputs": [],
   "source": [
    "# Make recommendations for a new user\n",
    "new_user_age = np.array([25])\n",
    "new_user_gender = np.array([0])  # 0 for Male, 1 for Female\n",
    "new_user_liked_topics = tokenizer.texts_to_sequences([\"topic1 topic2 topic3\"])\n",
    "new_user_liked_topics = pad_sequences(new_user_liked_topics, maxlen=max_topics_length)\n",
    "predicted_likelihood = model.predict([new_user_age, new_user_gender, new_user_liked_topics])\n",
    "print(f\"Predicted Likelihood of Liking: {predicted_likelihood[0][0]}\")"
   ],
   "metadata": {
    "collapsed": false
   },
   "id": "45a9c1575170b53c"
  }
 ],
 "metadata": {
  "kernelspec": {
   "display_name": "Python 3",
   "language": "python",
   "name": "python3"
  },
  "language_info": {
   "codemirror_mode": {
    "name": "ipython",
    "version": 2
   },
   "file_extension": ".py",
   "mimetype": "text/x-python",
   "name": "python",
   "nbconvert_exporter": "python",
   "pygments_lexer": "ipython2",
   "version": "2.7.6"
  }
 },
 "nbformat": 4,
 "nbformat_minor": 5
}
