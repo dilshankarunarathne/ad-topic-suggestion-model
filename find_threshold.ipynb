{
 "cells": [
  {
   "cell_type": "code",
   "execution_count": null,
   "id": "initial_id",
   "metadata": {
    "collapsed": true
   },
   "outputs": [],
   "source": [
    "from sklearn.metrics import f1_score\n",
    "import numpy as np"
   ]
  },
  {
   "cell_type": "code",
   "execution_count": null,
   "outputs": [],
   "source": [
    "# Define your topic scores (this is just an example, replace with your actual topic scores)\n",
    "topic_scores = {\n",
    "    'sports': np.array([0.8, 0.6, 0.9, 0.7, 0.5]),\n",
    "    'fashion': np.array([0.7, 0.5, 0.6, 0.4, 0.8]),\n",
    "    'music': np.array([0.6, 0.7, 0.4, 0.8, 0.5]),\n",
    "    'travel': np.array([0.5, 0.4, 0.7, 0.6, 0.9]),\n",
    "    'food': np.array([0.7, 0.8, 0.5, 0.6, 0.7]),\n",
    "    'technology': np.array([0.6, 0.7, 0.8, 0.5, 0.4]),\n",
    "    'business': np.array([0.5, 0.6, 0.7, 0.4, 0.8]),\n",
    "    'art': np.array([0.8, 0.7, 0.6, 0.5, 0.4]),\n",
    "    'books': np.array([0.6, 0.4, 0.5, 0.7, 0.8]),\n",
    "    'video games': np.array([0.7, 0.8, 0.6, 0.5, 0.4])\n",
    "    # Add even more topics and scores as needed\n",
    "}"
   ],
   "metadata": {
    "collapsed": false
   },
   "id": "74147b9fdde2b25d"
  }
 ],
 "metadata": {
  "kernelspec": {
   "display_name": "Python 3",
   "language": "python",
   "name": "python3"
  },
  "language_info": {
   "codemirror_mode": {
    "name": "ipython",
    "version": 2
   },
   "file_extension": ".py",
   "mimetype": "text/x-python",
   "name": "python",
   "nbconvert_exporter": "python",
   "pygments_lexer": "ipython2",
   "version": "2.7.6"
  }
 },
 "nbformat": 4,
 "nbformat_minor": 5
}
