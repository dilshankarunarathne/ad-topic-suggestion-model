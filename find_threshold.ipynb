{
 "cells": [
  {
   "cell_type": "code",
   "execution_count": null,
   "id": "initial_id",
   "metadata": {
    "collapsed": true
   },
   "outputs": [],
   "source": [
    "import pandas as pd\n",
    "import numpy as np\n",
    "from tensorflow.keras.preprocessing.text import Tokenizer\n",
    "from tensorflow.keras.preprocessing.sequence import pad_sequences\n",
    "from tensorflow.keras.models import load_model"
   ]
  },
  {
   "cell_type": "code",
   "execution_count": null,
   "outputs": [],
   "source": [
    "# Load your dataset\n",
    "df = pd.read_csv('generated_dataset.csv')"
   ],
   "metadata": {
    "collapsed": false
   },
   "id": "74147b9fdde2b25d"
  },
  {
   "cell_type": "code",
   "execution_count": null,
   "outputs": [],
   "source": [
    "# Ensure User Age is numeric\n",
    "df['UserAge'] = pd.to_numeric(df['UserAge'], errors='coerce')  # 'coerce' will handle non-numeric values"
   ],
   "metadata": {
    "collapsed": false
   },
   "id": "1c4012f42bdd8cd7"
  },
  {
   "cell_type": "code",
   "execution_count": null,
   "outputs": [],
   "source": [
    "# Encode User Gender (assuming 'M' is 0 and 'F' is 1)\n",
    "df['UserGender'] = df['UserGender'].map({'M': 0, 'F': 1})"
   ],
   "metadata": {
    "collapsed": false
   },
   "id": "6f8458bf85225457"
  },
  {
   "cell_type": "code",
   "execution_count": null,
   "outputs": [],
   "source": [
    "# Preprocess the data\n",
    "max_topics_length = 50\n",
    "tokenizer = Tokenizer()\n",
    "tokenizer.fit_on_texts(df['LikedTopic'])\n",
    "topics_seq = tokenizer.texts_to_sequences(df['LikedTopic'])\n",
    "topics_pad = pad_sequences(topics_seq, maxlen=max_topics_length)"
   ],
   "metadata": {
    "collapsed": false
   },
   "id": "e8bd205ba0033517"
  }
 ],
 "metadata": {
  "kernelspec": {
   "display_name": "Python 3",
   "language": "python",
   "name": "python3"
  },
  "language_info": {
   "codemirror_mode": {
    "name": "ipython",
    "version": 2
   },
   "file_extension": ".py",
   "mimetype": "text/x-python",
   "name": "python",
   "nbconvert_exporter": "python",
   "pygments_lexer": "ipython2",
   "version": "2.7.6"
  }
 },
 "nbformat": 4,
 "nbformat_minor": 5
}
