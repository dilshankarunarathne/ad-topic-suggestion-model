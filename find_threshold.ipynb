{
 "cells": [
  {
   "cell_type": "code",
   "execution_count": 1,
   "id": "initial_id",
   "metadata": {
    "collapsed": true,
    "ExecuteTime": {
     "end_time": "2023-08-30T10:27:47.474792200Z",
     "start_time": "2023-08-30T10:27:42.973338Z"
    }
   },
   "outputs": [],
   "source": [
    "import pandas as pd\n",
    "import numpy as np\n",
    "from tensorflow.keras.preprocessing.text import Tokenizer\n",
    "from tensorflow.keras.preprocessing.sequence import pad_sequences\n",
    "from tensorflow.keras.models import load_model"
   ]
  },
  {
   "cell_type": "code",
   "execution_count": 2,
   "outputs": [],
   "source": [
    "# Load your dataset\n",
    "df = pd.read_csv('generated_dataset.csv')"
   ],
   "metadata": {
    "collapsed": false,
    "ExecuteTime": {
     "end_time": "2023-08-30T10:27:50.452459700Z",
     "start_time": "2023-08-30T10:27:50.445683600Z"
    }
   },
   "id": "74147b9fdde2b25d"
  },
  {
   "cell_type": "code",
   "execution_count": 3,
   "outputs": [],
   "source": [
    "# Ensure User Age is numeric\n",
    "df['UserAge'] = pd.to_numeric(df['UserAge'], errors='coerce')  # 'coerce' will handle non-numeric values"
   ],
   "metadata": {
    "collapsed": false,
    "ExecuteTime": {
     "end_time": "2023-08-30T10:27:52.393822Z",
     "start_time": "2023-08-30T10:27:52.387273900Z"
    }
   },
   "id": "1c4012f42bdd8cd7"
  },
  {
   "cell_type": "code",
   "execution_count": null,
   "outputs": [],
   "source": [
    "# Encode User Gender (assuming 'M' is 0 and 'F' is 1)\n",
    "df['UserGender'] = df['UserGender'].map({'M': 0, 'F': 1})"
   ],
   "metadata": {
    "collapsed": false
   },
   "id": "6f8458bf85225457"
  },
  {
   "cell_type": "code",
   "execution_count": null,
   "outputs": [],
   "source": [
    "# Preprocess the data\n",
    "max_topics_length = 50\n",
    "tokenizer = Tokenizer()\n",
    "tokenizer.fit_on_texts(df['LikedTopic'])\n",
    "topics_seq = tokenizer.texts_to_sequences(df['LikedTopic'])\n",
    "topics_pad = pad_sequences(topics_seq, maxlen=max_topics_length)"
   ],
   "metadata": {
    "collapsed": false
   },
   "id": "e8bd205ba0033517"
  },
  {
   "cell_type": "code",
   "execution_count": null,
   "outputs": [],
   "source": [
    "# Load your trained Keras model\n",
    "model = load_model('model.h5')"
   ],
   "metadata": {
    "collapsed": false
   },
   "id": "a87f4b813364e547"
  },
  {
   "cell_type": "code",
   "execution_count": null,
   "outputs": [],
   "source": [
    "# Define input data for making predictions\n",
    "X_user_age = df['UserAge']\n",
    "X_user_gender = df['UserGender']\n",
    "X_topics = topics_pad"
   ],
   "metadata": {
    "collapsed": false
   },
   "id": "4d33f0c7e771b6d0"
  },
  {
   "cell_type": "code",
   "execution_count": null,
   "outputs": [],
   "source": [
    "# Make predictions using the model\n",
    "predicted_scores = model.predict([X_user_age, X_user_gender, X_topics])"
   ],
   "metadata": {
    "collapsed": false
   },
   "id": "8c31e14d7e92f348"
  },
  {
   "cell_type": "code",
   "execution_count": null,
   "outputs": [],
   "source": [
    "# Define a threshold value for recommendations (adjust as needed)\n",
    "threshold = 0.5864432454109192"
   ],
   "metadata": {
    "collapsed": false
   },
   "id": "216e33ba1043a984"
  },
  {
   "cell_type": "code",
   "execution_count": null,
   "outputs": [],
   "source": [
    "# Get recommended topics based on the threshold\n",
    "recommended_topics = [topic for i, topic in enumerate(df['LikedTopic']) if predicted_scores[i] >= threshold]"
   ],
   "metadata": {
    "collapsed": false
   },
   "id": "36e5a7a192324da0"
  },
  {
   "cell_type": "code",
   "execution_count": null,
   "outputs": [],
   "source": [
    "# Print the recommended topics\n",
    "print(\"Recommended Topics:\")\n",
    "for topic in recommended_topics:\n",
    "    print(topic)"
   ],
   "metadata": {
    "collapsed": false
   },
   "id": "45c89117d4d605cf"
  }
 ],
 "metadata": {
  "kernelspec": {
   "display_name": "Python 3",
   "language": "python",
   "name": "python3"
  },
  "language_info": {
   "codemirror_mode": {
    "name": "ipython",
    "version": 2
   },
   "file_extension": ".py",
   "mimetype": "text/x-python",
   "name": "python",
   "nbconvert_exporter": "python",
   "pygments_lexer": "ipython2",
   "version": "2.7.6"
  }
 },
 "nbformat": 4,
 "nbformat_minor": 5
}
