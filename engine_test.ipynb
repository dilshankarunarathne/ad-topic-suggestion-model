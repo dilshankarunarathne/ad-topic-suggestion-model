{
 "cells": [
  {
   "cell_type": "code",
   "execution_count": 6,
   "outputs": [],
   "source": [
    "import pandas as pd\n",
    "import numpy as np\n",
    "from sklearn.model_selection import train_test_split\n",
    "from tensorflow.keras.layers import Input, Embedding, LSTM, Flatten, Concatenate, Dense\n",
    "from tensorflow.keras.models import Model\n",
    "from tensorflow.keras.preprocessing.text import Tokenizer\n",
    "from tensorflow.keras.preprocessing.sequence import pad_sequences"
   ],
   "metadata": {
    "collapsed": false,
    "ExecuteTime": {
     "end_time": "2023-08-30T09:42:06.071835Z",
     "start_time": "2023-08-30T09:41:56.439625Z"
    }
   },
   "id": "4e884974c42434df"
  },
  {
   "cell_type": "code",
   "execution_count": 7,
   "outputs": [],
   "source": [
    "# Load your dataset\n",
    "df = pd.read_csv('generated_dataset.csv')"
   ],
   "metadata": {
    "collapsed": false,
    "ExecuteTime": {
     "end_time": "2023-08-30T09:42:16.044604Z",
     "start_time": "2023-08-30T09:42:16.024647900Z"
    }
   },
   "id": "95bf28d213e4f4f8"
  },
  {
   "cell_type": "code",
   "execution_count": 8,
   "outputs": [],
   "source": [
    "# Encode categorical variables\n",
    "df['UserGender'] = df['UserGender'].map({'M': 0, 'F': 1})"
   ],
   "metadata": {
    "collapsed": false,
    "ExecuteTime": {
     "end_time": "2023-08-30T09:42:22.497477400Z",
     "start_time": "2023-08-30T09:42:22.483256500Z"
    }
   },
   "id": "2ac75dc7ee771a99"
  },
  {
   "cell_type": "code",
   "execution_count": 11,
   "outputs": [],
   "source": [
    "# Tokenize and pad liked topics\n",
    "max_topics_length = 50\n",
    "tokenizer = Tokenizer()\n",
    "tokenizer.fit_on_texts(df['LikedTopic'])  \n",
    "topics_seq = tokenizer.texts_to_sequences(df['LikedTopic'])  \n",
    "topics_pad = pad_sequences(topics_seq, maxlen=max_topics_length)"
   ],
   "metadata": {
    "collapsed": false,
    "ExecuteTime": {
     "end_time": "2023-08-30T09:44:58.529078200Z",
     "start_time": "2023-08-30T09:44:58.485811900Z"
    }
   },
   "id": "e125ff7bbbc142a5"
  },
  {
   "cell_type": "code",
   "execution_count": 21,
   "outputs": [],
   "source": [
    "# Split the data\n",
    "X_age = df['UserAge'].values\n",
    "X_gender = df['UserGender'].values\n",
    "X_topics = topics_pad\n",
    "y = np.ones(len(df))  # Binary label: 1 for 'liked', assuming all entries are liked"
   ],
   "metadata": {
    "collapsed": false,
    "ExecuteTime": {
     "end_time": "2023-08-30T09:52:23.017227800Z",
     "start_time": "2023-08-30T09:52:23.005994500Z"
    }
   },
   "id": "11f944b51a907641"
  },
  {
   "cell_type": "code",
   "execution_count": 35,
   "outputs": [],
   "source": [
    "# Split the data into train and test sets\n",
    "X_age_train, X_age_test, X_gender_train, X_gender_test, X_topics_train, X_topics_test, y_train, y_test = train_test_split(\n",
    "    X_age, X_gender, X_topics, y, test_size=0.2, random_state=42)"
   ],
   "metadata": {
    "collapsed": false,
    "ExecuteTime": {
     "end_time": "2023-08-30T09:58:52.406656300Z",
     "start_time": "2023-08-30T09:58:52.376038300Z"
    }
   },
   "id": "5b6d34be56f06fd5"
  },
  {
   "cell_type": "code",
   "execution_count": 38,
   "outputs": [],
   "source": [
    "# Define the model\n",
    "input_age = Input(shape=(1,), name='age_input')\n",
    "input_gender = Input(shape=(1,), name='gender_input')\n",
    "input_topics = Input(shape=(max_topics_length,), name='topics_input')"
   ],
   "metadata": {
    "collapsed": false,
    "ExecuteTime": {
     "end_time": "2023-08-30T09:59:28.522263900Z",
     "start_time": "2023-08-30T09:59:28.520134100Z"
    }
   },
   "id": "b0490354a34f8e22"
  },
  {
   "cell_type": "code",
   "execution_count": 39,
   "outputs": [],
   "source": [
    "embedding_age = Embedding(input_dim=100, output_dim=16)(input_age)  # Adjust input_dim as needed\n",
    "embedding_gender = Embedding(input_dim=2, output_dim=16)(input_gender)\n",
    "embedding_topics = Embedding(input_dim=len(tokenizer.word_index) + 1, output_dim=16)(input_topics)"
   ],
   "metadata": {
    "collapsed": false,
    "ExecuteTime": {
     "end_time": "2023-08-30T09:59:31.131982900Z",
     "start_time": "2023-08-30T09:59:31.100343900Z"
    }
   },
   "id": "17e05d16d09c57ff"
  },
  {
   "cell_type": "code",
   "execution_count": 40,
   "outputs": [],
   "source": [
    "lstm_age = LSTM(16)(embedding_age)\n",
    "lstm_gender = LSTM(16)(embedding_gender)\n",
    "lstm_topics = LSTM(16)(embedding_topics)"
   ],
   "metadata": {
    "collapsed": false,
    "ExecuteTime": {
     "end_time": "2023-08-30T09:59:32.631820700Z",
     "start_time": "2023-08-30T09:59:31.665204100Z"
    }
   },
   "id": "bd95002f94cb1faa"
  },
  {
   "cell_type": "code",
   "execution_count": 41,
   "outputs": [],
   "source": [
    "concatenated = Concatenate()([lstm_age, lstm_gender, lstm_topics])\n",
    "output = Dense(1, activation='sigmoid')(concatenated)"
   ],
   "metadata": {
    "collapsed": false,
    "ExecuteTime": {
     "end_time": "2023-08-30T09:59:46.271495800Z",
     "start_time": "2023-08-30T09:59:46.247362800Z"
    }
   },
   "id": "2688dcbf9e65a7d4"
  },
  {
   "cell_type": "code",
   "execution_count": 42,
   "outputs": [],
   "source": [
    "model = Model(inputs=[input_age, input_gender, input_topics], outputs=output)"
   ],
   "metadata": {
    "collapsed": false,
    "ExecuteTime": {
     "end_time": "2023-08-30T10:00:04.593255300Z",
     "start_time": "2023-08-30T10:00:04.575554Z"
    }
   },
   "id": "8b5e86d8f917986d"
  },
  {
   "cell_type": "code",
   "execution_count": 43,
   "outputs": [],
   "source": [
    "# Compile the model\n",
    "model.compile(optimizer='adam', loss='binary_crossentropy', metrics=['accuracy'])"
   ],
   "metadata": {
    "collapsed": false,
    "ExecuteTime": {
     "end_time": "2023-08-30T10:00:19.798984700Z",
     "start_time": "2023-08-30T10:00:19.792014800Z"
    }
   },
   "id": "e9760c19b9c1ccc2"
  },
  {
   "cell_type": "code",
   "execution_count": 44,
   "outputs": [
    {
     "name": "stdout",
     "output_type": "stream",
     "text": [
      "Epoch 1/10\n",
      "6/6 [==============================] - 9s 324ms/step - loss: 0.6843 - accuracy: 0.8128 - val_loss: 0.6658 - val_accuracy: 1.0000\n",
      "Epoch 2/10\n",
      "6/6 [==============================] - 0s 25ms/step - loss: 0.6548 - accuracy: 1.0000 - val_loss: 0.6354 - val_accuracy: 1.0000\n",
      "Epoch 3/10\n",
      "6/6 [==============================] - 0s 22ms/step - loss: 0.6227 - accuracy: 1.0000 - val_loss: 0.5990 - val_accuracy: 1.0000\n",
      "Epoch 4/10\n",
      "6/6 [==============================] - 0s 25ms/step - loss: 0.5820 - accuracy: 1.0000 - val_loss: 0.5490 - val_accuracy: 1.0000\n",
      "Epoch 5/10\n",
      "6/6 [==============================] - 0s 22ms/step - loss: 0.5227 - accuracy: 1.0000 - val_loss: 0.4701 - val_accuracy: 1.0000\n",
      "Epoch 6/10\n",
      "6/6 [==============================] - 0s 23ms/step - loss: 0.4262 - accuracy: 1.0000 - val_loss: 0.3461 - val_accuracy: 1.0000\n",
      "Epoch 7/10\n",
      "6/6 [==============================] - 0s 22ms/step - loss: 0.2972 - accuracy: 1.0000 - val_loss: 0.2266 - val_accuracy: 1.0000\n",
      "Epoch 8/10\n",
      "6/6 [==============================] - 0s 21ms/step - loss: 0.1960 - accuracy: 1.0000 - val_loss: 0.1553 - val_accuracy: 1.0000\n",
      "Epoch 9/10\n",
      "6/6 [==============================] - 0s 22ms/step - loss: 0.1389 - accuracy: 1.0000 - val_loss: 0.1161 - val_accuracy: 1.0000\n",
      "Epoch 10/10\n",
      "6/6 [==============================] - 0s 22ms/step - loss: 0.1060 - accuracy: 1.0000 - val_loss: 0.0908 - val_accuracy: 1.0000\n"
     ]
    },
    {
     "data": {
      "text/plain": "<keras.src.callbacks.History at 0x1edfebf3c10>"
     },
     "execution_count": 44,
     "metadata": {},
     "output_type": "execute_result"
    }
   ],
   "source": [
    "# Train the model\n",
    "model.fit(\n",
    "    {'age_input': X_age_train, 'gender_input': X_gender_train, 'topics_input': X_topics_train},\n",
    "    y_train,\n",
    "    epochs=10,\n",
    "    batch_size=64,\n",
    "    validation_split=0.2\n",
    ")"
   ],
   "metadata": {
    "collapsed": false,
    "ExecuteTime": {
     "end_time": "2023-08-30T10:00:41.127635700Z",
     "start_time": "2023-08-30T10:00:31.148350Z"
    }
   },
   "id": "2095b3d5ef8a216a"
  },
  {
   "cell_type": "code",
   "execution_count": null,
   "outputs": [],
   "source": [],
   "metadata": {
    "collapsed": false
   },
   "id": "dc0e2c0a1065c37c"
  }
 ],
 "metadata": {
  "kernelspec": {
   "display_name": "Python 3",
   "language": "python",
   "name": "python3"
  },
  "language_info": {
   "codemirror_mode": {
    "name": "ipython",
    "version": 2
   },
   "file_extension": ".py",
   "mimetype": "text/x-python",
   "name": "python",
   "nbconvert_exporter": "python",
   "pygments_lexer": "ipython2",
   "version": "2.7.6"
  }
 },
 "nbformat": 4,
 "nbformat_minor": 5
}
