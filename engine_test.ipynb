{
 "cells": [
  {
   "cell_type": "code",
   "execution_count": 6,
   "outputs": [],
   "source": [
    "import pandas as pd\n",
    "import numpy as np\n",
    "from sklearn.model_selection import train_test_split\n",
    "from tensorflow.keras.layers import Input, Embedding, LSTM, Flatten, Concatenate, Dense\n",
    "from tensorflow.keras.models import Model\n",
    "from tensorflow.keras.preprocessing.text import Tokenizer\n",
    "from tensorflow.keras.preprocessing.sequence import pad_sequences"
   ],
   "metadata": {
    "collapsed": false,
    "ExecuteTime": {
     "end_time": "2023-08-30T09:42:06.071835Z",
     "start_time": "2023-08-30T09:41:56.439625Z"
    }
   },
   "id": "4e884974c42434df"
  },
  {
   "cell_type": "code",
   "execution_count": 7,
   "outputs": [],
   "source": [
    "# Load your dataset\n",
    "df = pd.read_csv('generated_dataset.csv')"
   ],
   "metadata": {
    "collapsed": false,
    "ExecuteTime": {
     "end_time": "2023-08-30T09:42:16.044604Z",
     "start_time": "2023-08-30T09:42:16.024647900Z"
    }
   },
   "id": "95bf28d213e4f4f8"
  },
  {
   "cell_type": "code",
   "execution_count": 8,
   "outputs": [],
   "source": [
    "# Encode categorical variables\n",
    "df['UserGender'] = df['UserGender'].map({'M': 0, 'F': 1})"
   ],
   "metadata": {
    "collapsed": false,
    "ExecuteTime": {
     "end_time": "2023-08-30T09:42:22.497477400Z",
     "start_time": "2023-08-30T09:42:22.483256500Z"
    }
   },
   "id": "2ac75dc7ee771a99"
  },
  {
   "cell_type": "code",
   "execution_count": 11,
   "outputs": [],
   "source": [
    "# Tokenize and pad liked topics\n",
    "max_topics_length = 50\n",
    "tokenizer = Tokenizer()\n",
    "tokenizer.fit_on_texts(df['LikedTopic'])  \n",
    "topics_seq = tokenizer.texts_to_sequences(df['LikedTopic'])  \n",
    "topics_pad = pad_sequences(topics_seq, maxlen=max_topics_length)"
   ],
   "metadata": {
    "collapsed": false,
    "ExecuteTime": {
     "end_time": "2023-08-30T09:44:58.529078200Z",
     "start_time": "2023-08-30T09:44:58.485811900Z"
    }
   },
   "id": "e125ff7bbbc142a5"
  },
  {
   "cell_type": "code",
   "execution_count": 21,
   "outputs": [],
   "source": [
    "# Split the data\n",
    "X_age = df['UserAge'].values\n",
    "X_gender = df['UserGender'].values\n",
    "X_topics = topics_pad\n",
    "y = np.ones(len(df))  # Binary label: 1 for 'liked', assuming all entries are liked"
   ],
   "metadata": {
    "collapsed": false,
    "ExecuteTime": {
     "end_time": "2023-08-30T09:52:23.017227800Z",
     "start_time": "2023-08-30T09:52:23.005994500Z"
    }
   },
   "id": "11f944b51a907641"
  },
  {
   "cell_type": "code",
   "execution_count": 22,
   "outputs": [],
   "source": [
    "# Split the data into train and test sets\n",
    "X_age_train, X_age_test, X_gender_train, X_gender_test, X_topics_train, X_topics_test, y_train, y_test = train_test_split(\n",
    "    X_age, X_gender, X_topics, y, test_size=0.2, random_state=42)"
   ],
   "metadata": {
    "collapsed": false,
    "ExecuteTime": {
     "end_time": "2023-08-30T09:52:24.332651400Z",
     "start_time": "2023-08-30T09:52:24.327864400Z"
    }
   },
   "id": "5b6d34be56f06fd5"
  },
  {
   "cell_type": "code",
   "execution_count": null,
   "outputs": [],
   "source": [
    "# Define the model\n",
    "input_age = Input(shape=(1,), name='age_input')\n",
    "input_gender = Input(shape=(1,), name='gender_input')\n",
    "input_topics = Input(shape=(max_topics_length,), name='topics_input')"
   ],
   "metadata": {
    "collapsed": false
   },
   "id": "b0490354a34f8e22"
  }
 ],
 "metadata": {
  "kernelspec": {
   "display_name": "Python 3",
   "language": "python",
   "name": "python3"
  },
  "language_info": {
   "codemirror_mode": {
    "name": "ipython",
    "version": 2
   },
   "file_extension": ".py",
   "mimetype": "text/x-python",
   "name": "python",
   "nbconvert_exporter": "python",
   "pygments_lexer": "ipython2",
   "version": "2.7.6"
  }
 },
 "nbformat": 4,
 "nbformat_minor": 5
}
